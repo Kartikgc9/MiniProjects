{
  "nbformat": 4,
  "nbformat_minor": 0,
  "metadata": {
    "colab": {
      "provenance": [],
      "authorship_tag": "ABX9TyN5Cow13xLxlmTghd7pfNZz",
      "include_colab_link": true
    },
    "kernelspec": {
      "name": "python3",
      "display_name": "Python 3"
    },
    "language_info": {
      "name": "python"
    }
  },
  "cells": [
    {
      "cell_type": "markdown",
      "metadata": {
        "id": "view-in-github",
        "colab_type": "text"
      },
      "source": [
        "<a href=\"https://colab.research.google.com/github/Kartikgc9/MiniProjects/blob/main/Resize_video.ipynb\" target=\"_parent\"><img src=\"https://colab.research.google.com/assets/colab-badge.svg\" alt=\"Open In Colab\"/></a>"
      ]
    },
    {
      "cell_type": "code",
      "execution_count": 1,
      "metadata": {
        "colab": {
          "base_uri": "https://localhost:8080/"
        },
        "id": "m8Q4auY4aslP",
        "outputId": "81f4bab1-7ade-49cc-ee10-ec401d4b7fe9"
      },
      "outputs": [
        {
          "output_type": "stream",
          "name": "stdout",
          "text": [
            "Looking in indexes: https://pypi.org/simple, https://us-python.pkg.dev/colab-wheels/public/simple/\n",
            "Collecting cv2module\n",
            "  Downloading cv2module-0.1.2-py3-none-any.whl (6.7 kB)\n",
            "Requirement already satisfied: opencv-python>=4.2.0.32 in /usr/local/lib/python3.10/dist-packages (from cv2module) (4.7.0.72)\n",
            "Requirement already satisfied: numpy>=1.18.1 in /usr/local/lib/python3.10/dist-packages (from cv2module) (1.22.4)\n",
            "Installing collected packages: cv2module\n",
            "Successfully installed cv2module-0.1.2\n"
          ]
        }
      ],
      "source": [
        "!pip install cv2module"
      ]
    },
    {
      "cell_type": "code",
      "source": [
        "import cv2\n",
        "\n",
        "# Input video file path\n",
        "input_file = \"/content/file_example_MP4_480_1_5MG.mp4\"\n",
        "\n",
        "# Output video file path\n",
        "output_file = \"/content/sample_data\"\n",
        "\n",
        "# Open the input video file\n",
        "video = cv2.VideoCapture(input_file)\n",
        "\n",
        "# Get the original video's properties\n",
        "fps = video.get(cv2.CAP_PROP_FPS)\n",
        "width = int(video.get(cv2.CAP_PROP_FRAME_WIDTH))\n",
        "height = int(video.get(cv2.CAP_PROP_FRAME_HEIGHT))\n",
        "\n",
        "# Calculate the new dimensions for resizing\n",
        "new_width = int(width * 0.5)\n",
        "new_height = int(height * 0.5)\n",
        "new_dim = (new_width, new_height)\n",
        "\n",
        "# Define the codec for the output video\n",
        "fourcc = cv2.VideoWriter_fourcc(*\"mp4v\")\n",
        "\n",
        "# Create the output video writer\n",
        "output_video = cv2.VideoWriter(output_file, fourcc, fps, new_dim)\n",
        "\n",
        "# Read and resize each frame of the input video\n",
        "while True:\n",
        "    ret, frame = video.read()\n",
        "    if not ret:\n",
        "        break\n",
        "\n",
        "    # Resize the frame\n",
        "    resized_frame = cv2.resize(frame, new_dim)\n",
        "\n",
        "    # Write the resized frame to the output video\n",
        "    output_video.write(resized_frame)\n",
        "\n",
        "# Release the input and output video files\n",
        "video.release()\n",
        "output_video.release()\n"
      ],
      "metadata": {
        "id": "I8hD7dQrbefP"
      },
      "execution_count": 3,
      "outputs": []
    }
  ]
}