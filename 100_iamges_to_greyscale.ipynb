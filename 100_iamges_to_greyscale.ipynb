{
  "nbformat": 4,
  "nbformat_minor": 0,
  "metadata": {
    "colab": {
      "provenance": [],
      "authorship_tag": "ABX9TyNkVv3pJcRWf/5Ctu9zlYSv",
      "include_colab_link": true
    },
    "kernelspec": {
      "name": "python3",
      "display_name": "Python 3"
    },
    "language_info": {
      "name": "python"
    }
  },
  "cells": [
    {
      "cell_type": "markdown",
      "metadata": {
        "id": "view-in-github",
        "colab_type": "text"
      },
      "source": [
        "<a href=\"https://colab.research.google.com/github/Kartikgc9/MiniProjects/blob/main/100_iamges_to_greyscale.ipynb\" target=\"_parent\"><img src=\"https://colab.research.google.com/assets/colab-badge.svg\" alt=\"Open In Colab\"/></a>"
      ]
    },
    {
      "cell_type": "code",
      "source": [
        "!pip install opencv-python"
      ],
      "metadata": {
        "colab": {
          "base_uri": "https://localhost:8080/"
        },
        "id": "L3anIy2zJLAG",
        "outputId": "e735c3af-f14a-4fb6-e493-63a2934667fd"
      },
      "execution_count": null,
      "outputs": [
        {
          "output_type": "stream",
          "name": "stdout",
          "text": [
            "Looking in indexes: https://pypi.org/simple, https://us-python.pkg.dev/colab-wheels/public/simple/\n",
            "Requirement already satisfied: opencv-python in /usr/local/lib/python3.10/dist-packages (4.7.0.72)\n",
            "Requirement already satisfied: numpy>=1.21.2 in /usr/local/lib/python3.10/dist-packages (from opencv-python) (1.22.4)\n"
          ]
        }
      ]
    },
    {
      "cell_type": "code",
      "execution_count": null,
      "metadata": {
        "colab": {
          "base_uri": "https://localhost:8080/"
        },
        "id": "TSqgBTzwDGx0",
        "outputId": "cbb9aaf0-3a8d-44e7-b8fb-7bf2bb7f0654"
      },
      "outputs": [
        {
          "output_type": "stream",
          "name": "stdout",
          "text": [
            "Looking in indexes: https://pypi.org/simple, https://us-python.pkg.dev/colab-wheels/public/simple/\n",
            "Collecting grey\n",
            "  Downloading grey-0.0.1-py2.py3-none-any.whl (2.3 kB)\n",
            "Collecting black>=18.5a0 (from grey)\n",
            "  Downloading black-23.3.0-cp310-cp310-manylinux_2_17_x86_64.manylinux2014_x86_64.whl (1.7 MB)\n",
            "\u001b[2K     \u001b[90m━━━━━━━━━━━━━━━━━━━━━━━━━━━━━━━━━━━━━━━━\u001b[0m \u001b[32m1.7/1.7 MB\u001b[0m \u001b[31m33.6 MB/s\u001b[0m eta \u001b[36m0:00:00\u001b[0m\n",
            "\u001b[?25hRequirement already satisfied: click>=8.0.0 in /usr/local/lib/python3.10/dist-packages (from black>=18.5a0->grey) (8.1.3)\n",
            "Collecting mypy-extensions>=0.4.3 (from black>=18.5a0->grey)\n",
            "  Downloading mypy_extensions-1.0.0-py3-none-any.whl (4.7 kB)\n",
            "Requirement already satisfied: packaging>=22.0 in /usr/local/lib/python3.10/dist-packages (from black>=18.5a0->grey) (23.1)\n",
            "Collecting pathspec>=0.9.0 (from black>=18.5a0->grey)\n",
            "  Downloading pathspec-0.11.1-py3-none-any.whl (29 kB)\n",
            "Requirement already satisfied: platformdirs>=2 in /usr/local/lib/python3.10/dist-packages (from black>=18.5a0->grey) (3.3.0)\n",
            "Requirement already satisfied: tomli>=1.1.0 in /usr/local/lib/python3.10/dist-packages (from black>=18.5a0->grey) (2.0.1)\n",
            "Installing collected packages: pathspec, mypy-extensions, black, grey\n",
            "Successfully installed black-23.3.0 grey-0.0.1 mypy-extensions-1.0.0 pathspec-0.11.1\n"
          ]
        }
      ],
      "source": [
        "!pip install grey"
      ]
    },
    {
      "cell_type": "code",
      "source": [
        "import cv2\n",
        "import os\n",
        "\n",
        "# Specify the directory where the images are located\n",
        "image_directory = \"//content/IMages\"\n",
        "\n",
        "# Get a list of all image files in the directory\n",
        "image_files = os.listdir(image_directory)\n",
        "\n",
        "# Iterate over the image files\n",
        "for filename in image_files:\n",
        "    # Check if the file is an image (you can add more image formats if needed)\n",
        "    if filename.endswith(\".jpg\") or filename.endswith(\".png\") or filename.endswith(\".jpeg\"):\n",
        "        # Read the image\n",
        "        image_path = os.path.join(image_directory, filename)\n",
        "        image = cv2.imread(image_path)\n",
        "        \n",
        "        # Convert the image to grayscale\n",
        "        gray_image = cv2.cvtColor(image, cv2.COLOR_BGR2GRAY)\n",
        "        \n",
        "        # Save the grayscale image\n",
        "        new_filename = filename.split(\".\")[0] + \"_gray.jpg\"  # Change the extension if needed\n",
        "        save_path = os.path.join(image_directory, new_filename)\n",
        "        cv2.imwrite(save_path, gray_image)\n",
        "        \n",
        "        print(f\"Image '{filename}' converted and saved as '{new_filename}'\")"
      ],
      "metadata": {
        "colab": {
          "base_uri": "https://localhost:8080/"
        },
        "id": "6DeG9oBPH_aY",
        "outputId": "d2c79ce4-059b-44e4-f28e-536be938e725"
      },
      "execution_count": null,
      "outputs": [
        {
          "output_type": "stream",
          "name": "stdout",
          "text": [
            "Image 'picture2.png' converted and saved as 'picture2_gray.jpg'\n",
            "Image 'download34.png' converted and saved as 'download34_gray.jpg'\n",
            "Image 'download23.png' converted and saved as 'download23_gray.jpg'\n"
          ]
        }
      ]
    }
  ]
}