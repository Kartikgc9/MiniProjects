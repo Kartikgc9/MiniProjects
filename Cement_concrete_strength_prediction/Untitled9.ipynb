{
  "nbformat": 4,
  "nbformat_minor": 0,
  "metadata": {
    "colab": {
      "provenance": []
    },
    "kernelspec": {
      "name": "python3",
      "display_name": "Python 3"
    },
    "language_info": {
      "name": "python"
    }
  },
  "cells": [
    {
      "cell_type": "code",
      "source": [
        "!pip install xlsxwriter"
      ],
      "metadata": {
        "colab": {
          "base_uri": "https://localhost:8080/"
        },
        "id": "yQtKFDkM0ivJ",
        "outputId": "29c62c31-e05d-4548-9bfc-0b261bc71b20"
      },
      "execution_count": 17,
      "outputs": [
        {
          "output_type": "stream",
          "name": "stdout",
          "text": [
            "Collecting xlsxwriter\n",
            "  Downloading XlsxWriter-3.2.0-py3-none-any.whl (159 kB)\n",
            "\u001b[?25l     \u001b[90m━━━━━━━━━━━━━━━━━━━━━━━━━━━━━━━━━━━━━━━━\u001b[0m \u001b[32m0.0/159.9 kB\u001b[0m \u001b[31m?\u001b[0m eta \u001b[36m-:--:--\u001b[0m\r\u001b[2K     \u001b[91m━━━━━━━━━━━━━━━━━━━━━━━━━━━━━━━━━━━━━━\u001b[0m\u001b[90m╺\u001b[0m\u001b[90m━\u001b[0m \u001b[32m153.6/159.9 kB\u001b[0m \u001b[31m5.2 MB/s\u001b[0m eta \u001b[36m0:00:01\u001b[0m\r\u001b[2K     \u001b[90m━━━━━━━━━━━━━━━━━━━━━━━━━━━━━━━━━━━━━━━━\u001b[0m \u001b[32m159.9/159.9 kB\u001b[0m \u001b[31m4.1 MB/s\u001b[0m eta \u001b[36m0:00:00\u001b[0m\n",
            "\u001b[?25hInstalling collected packages: xlsxwriter\n",
            "Successfully installed xlsxwriter-3.2.0\n"
          ]
        }
      ]
    },
    {
      "cell_type": "code",
      "execution_count": 37,
      "metadata": {
        "colab": {
          "base_uri": "https://localhost:8080/"
        },
        "collapsed": true,
        "id": "CFuaKLbOub8v",
        "outputId": "0fe62526-04d7-48fd-d58d-6a572730d316"
      },
      "outputs": [
        {
          "output_type": "stream",
          "name": "stdout",
          "text": [
            "Mean Squared Error: 0.01\n",
            "Output written to concrete_compressive_strength.xlsx\n"
          ]
        }
      ],
      "source": [
        "import pandas as pd\n",
        "from sklearn.model_selection import train_test_split\n",
        "from sklearn.ensemble import RandomForestRegressor\n",
        "from sklearn.impute import SimpleImputer\n",
        "from sklearn.metrics import mean_squared_error\n",
        "import xlsxwriter\n",
        "import numpy as np\n",
        "\n",
        "# Load the dataset from sensors\n",
        "data = pd.read_csv('/content/jajajajaj.csv')\n",
        "\n",
        "# Define the feature columns\n",
        "X = data[['cement', 'blast_furnace_slag', 'fly_ash', 'water', 'superplasticizer', 'coarse', 'fine', 'age','concrete_compressive_strength']]\n",
        "\n",
        "# Define the target column\n",
        "y = data['concrete_compressive_strength']\n",
        "\n",
        "# Impute missing values in y using mean imputation\n",
        "imputer = SimpleImputer(strategy='mean')\n",
        "y_imputed = imputer.fit_transform(y.values.reshape(-1, 1))\n",
        "\n",
        "# Ensure y_imputed has the same shape as y\n",
        "y_imputed = y_imputed.reshape(-1)\n",
        "\n",
        "# Create a pandas Series from y_imputed with the same index as y\n",
        "y = pd.Series(y_imputed, index=y.index)\n",
        "\n",
        "# Split the data into training and testing sets\n",
        "X_train, X_test, y_train, y_test = train_test_split(X, y, test_size=0.2, random_state=42)\n",
        "\n",
        "# Create a Random Forest Regressor model\n",
        "model = RandomForestRegressor(n_estimators=100, random_state=42)\n",
        "\n",
        "# Train the model\n",
        "model.fit(X_train, y_train)\n",
        "\n",
        "# Make predictions on the test set\n",
        "y_pred = model.predict(X_test)\n",
        "\n",
        "# Evaluate the model using Mean Squared Error\n",
        "mse = mean_squared_error(y_test, y_pred)\n",
        "print(f'Mean Squared Error: {mse:.2f}')\n",
        "\n",
        "# Make predictions on the entire dataset\n",
        "y_pred_all = model.predict(X)\n",
        "\n",
        "# Add the predicted compressive strength to the original dataset\n",
        "data['predicted_compressive_strength'] = y_pred_all\n",
        "\n",
        "# Create an Excel file and write the output\n",
        "with xlsxwriter.Workbook('concrete_compressive_strength.xlsx') as workbook:\n",
        "    worksheet = workbook.add_worksheet()\n",
        "    for col, val in enumerate(data.columns):\n",
        "        worksheet.write(0, col, val)\n",
        "    for index, row in data.iterrows():\n",
        "        for col, val in enumerate(row):\n",
        "            worksheet.write(index+1, col, val)\n",
        "\n",
        "print(\"Output written to concrete_compressive_strength.xlsx\")"
      ]
    }
  ]
}